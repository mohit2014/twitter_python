{
 "cells": [
  {
   "cell_type": "code",
   "execution_count": 24,
   "metadata": {},
   "outputs": [
    {
     "name": "stdout",
     "output_type": "stream",
     "text": [
      "=========================0=====================\n",
      "_EmberFlint Tweeted: RT @readmeromance: Get Wicked Designs ... only 99 Cents!\n",
      "\n",
      "The League of Rogues takes what they want—but have they taken on too much?\n",
      "\n",
      "https…\n",
      "=========================1=====================\n",
      "C6edtech Tweeted: RT @JWalterTeach: Yay!!! Gave day 1 of #SlideFix PD today @C6edtech ! Ts were stoked to start creating interactive lessons (you can embed G…\n",
      "=========================2=====================\n",
      "fixslutornut Tweeted: RT @dhunnasim: It's been more than 20 weeks since #ConsentOverProfit was launched, and months since a racialized survivor asked for the *ba…\n",
      "=========================3=====================\n",
      "PatsBeerGuy Tweeted: @corbinceeds @C_the_Q @StlGrizzlies31 @Frank_Cusumano @StLouisBlues @ksdknews Denial? Read for yourself...oh that’s… https://t.co/90azdBz3K3\n",
      "=========================4=====================\n",
      "SEOPPCUK Tweeted: RT @MarkCordy1: Small Business SEO Tips 2019 – Part 2 – Website Performance https://t.co/Ejzn3U8TG3  #SEO #SearchEngineOptimization #Search…\n",
      "=========================5=====================\n",
      "NileoneAcademy Tweeted: RT @NileoneAcademy: - Bill Gates started #Microsoft with his best friend Paul.\n",
      "- Larry Page started #google with his best friend Sergy.\n",
      "- J…\n",
      "=========================6=====================\n",
      "debsgath Tweeted: @alanbarnard1 @Food4Gut_Health @saez_cristina @GutMicrobiotaWW Taken from Google dictionary. Once someone knows wha… https://t.co/QnF6YnpkCP\n",
      "=========================7=====================\n",
      "AFlattRascal Tweeted: @scrowder Joking aside, I hope Google doesn't let her go for being seen near you. Quite sad that it's come to madness like that.\n",
      "=========================8=====================\n",
      "WayneDavid81 Tweeted: Someone just asked if they could borrow my phone because their battery had died and they were lost. She seemed genu… https://t.co/A0k5kBadTL\n",
      "=========================9=====================\n",
      "FoodandTravel_ Tweeted: Food and Travel Magazine Inc. on #Google https://t.co/QMKjLjPbSu\n",
      "=========================10=====================\n",
      "Vutlhari_M Tweeted: @Tsholofelo_le I subscribed to Apple Music, previously it was Google play I subscribed to.\n"
     ]
    }
   ],
   "source": [
    "import tweepy\n",
    "consumer_key = \"\"\n",
    "consumer_secret = \"\"\n",
    "access_token = \"\"\n",
    "access_token_secret = \"\"\n",
    "\n",
    "# Creating the authentication object\n",
    "auth = tweepy.OAuthHandler(consumer_key, consumer_secret)\n",
    "# Setting your access token and secret\n",
    "auth.set_access_token(access_token, access_token_secret)\n",
    "# Creating the API object while passing in auth information\n",
    "api = tweepy.API(auth) \n",
    "\n",
    "# The search term you want to find\n",
    "query = \"google\"\n",
    "# Language code (follows ISO 639-1 standards)\n",
    "language = \"en\"\n",
    "\n",
    "# Calling the user_timeline function with our parameters\n",
    "results = api.search(q=query, lang=language)\n",
    "\n",
    "i=0\n",
    "# foreach through all tweets pulled\n",
    "for tweet in results:\n",
    "   # printing the text stored inside the tweet object\n",
    "   print(\"=========================\" + str(i) + \"=====================\")\n",
    "   print tweet.user.screen_name,\"Tweeted:\",tweet.text\n",
    "   i  = i+1"
   ]
  }
 ],
 "metadata": {
  "kernelspec": {
   "display_name": "Python 2",
   "language": "python",
   "name": "python2"
  },
  "language_info": {
   "codemirror_mode": {
    "name": "ipython",
    "version": 2
   },
   "file_extension": ".py",
   "mimetype": "text/x-python",
   "name": "python",
   "nbconvert_exporter": "python",
   "pygments_lexer": "ipython2",
   "version": "2.7.12"
  }
 },
 "nbformat": 4,
 "nbformat_minor": 2
}
